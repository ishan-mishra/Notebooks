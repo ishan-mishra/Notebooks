{
 "cells": [
  {
   "cell_type": "markdown",
   "metadata": {},
   "source": [
    "### Nikole's pearls of wisdom\n",
    "\n",
    "- When despiking data/removing noisy points, a rule of thumb is that the process should not remove more than $1-10\\%$ of the data points, to restrict information loss."
   ]
  },
  {
   "cell_type": "markdown",
   "metadata": {},
   "source": [
    "## General notes on Europa"
   ]
  },
  {
   "cell_type": "markdown",
   "metadata": {},
   "source": [
    "### Surface features/geology\n",
    "\n",
    "- The visible dark markings crossing through the surface are called linea\n",
    "- Chaos terrains, area where features such as ridges, cracks, and plains appear jumbled and enmeshed with one another, are also present. \n",
    "- These features are believed to have formed due to tidal movements below the water with constant resurfacing and exposure of non-ice material. "
   ]
  },
  {
   "cell_type": "markdown",
   "metadata": {},
   "source": [
    "### Surface composition"
   ]
  },
  {
   "cell_type": "markdown",
   "metadata": {},
   "source": [
    "- Albedo: 0.67\n",
    "\n",
    "#### Water \n",
    "\n",
    "- Amorphous v/s crystalline debated (Europa book, Carlson et al. 2009)\n",
    "- Hansen and McCord (2004) show using Galileo data that ice on Europa is predominantly amorphous. \n",
    "- Within the range of temperatures observed on Europa's surface (minimum nocturnal T ≤ 76 K; maximum diurnal T = 132 K, (Spencer et al., 1999)), one would expect that all amorphous ice would be transformed into hexagonal ice in <20 years (Jenniskens et al., 1998).\n",
    "- How to differentiate between amorphous and crystalline ice?\n",
    "    1. Crystalline ice has a secondary absorption at 1.65 microns within the 1.5 microns band.\n",
    "    2. The 2.05 microns band is shifted at 2.0 microns in the amorphous ice. \n",
    "    3. The 3.1 microns Fresnel's reflectance peak is broad and weak for amorphous ice while is narrower and structured like a triplet for cold crystalline ice.\n",
    "- By looking at water ice absorption band depth maps (after removing the 'non-ice' material's contribution), it seems like the ice texture (or grain size) is fairly uniformly distributed (Grundy et al 2007)[https://science.sciencemag.org/content/sci/318/5848/234.full.pdf ]\n",
    "\n",
    "\n",
    "#### External mechanisms affecting the surface\n",
    "\n",
    "- Due to condensation of sublimated and sputtered molecules and by irradiation from UV, electrons and ions, amorphous ice can be formed. This is what might be refurbishing amorphous ice on Europa's surface.\n",
    "- Radiation processing however occurs only at shallow layers, up to the depths of 1 cm at mid to high latitudes and up to 10-20 cm in the radiation lenses centered on the apex of the leading and training hemispheres (Nordheim et al. 2018)\n",
    "- \n",
    "\n",
    "\n",
    "\n",
    "\n"
   ]
  },
  {
   "cell_type": "markdown",
   "metadata": {},
   "source": [
    "#### Non-Water components\n",
    "\n",
    "#### For a complete table, refer to the Evernote document. \n",
    "\n",
    "- The trailing hemisphere's where the non-ice material is known to be more abundant\n",
    "- Magnesium salts, sulfuric acid-rich compounds (McCord et al. 1999, Carlson et al. 2005)\n",
    "- Sulfur-bearing compounds could result from radiolytic processes altering endogenous materials (Carlson et al., 1999b; Carlson et al., 2002) or magnetospheric particles (Dalton et al., 2005; Dalton et al., 2012).\n",
    "- The Fresnel peak of water ice reflectance at around 3.1 microns is also influenced when water ice is contaminated with non-ice materials, e.g., it is removed in hydrated mineral spectra (Carlson 2009)"
   ]
  },
  {
   "cell_type": "markdown",
   "metadata": {},
   "source": [
    "#### <span style='color:red'> Questions: </span>"
   ]
  },
  {
   "cell_type": "markdown",
   "metadata": {},
   "source": [
    "1. Most of the red material on Europa, believed to be salt, is on the trailing side [(ref1,](https://science.sciencemag.org/lookup/google-scholar?link_type=googlescholar&gs_type=article&q_txt=R.+W.+Carlson%2C+M.+S.+Anderson%2C+R.+Mehlman%2C+R.+E.+Johnson%2C+Icarus+177%2C+461+(2005),[ref2)](https://science.sciencemag.org/content/sci/318/5848/234.full.pdf), whereas NaCl has been detected on the leading side [(ref)](https://advances.sciencemag.org/content/5/6/eaaw7123.abstract). Why the disparity?\n"
   ]
  },
  {
   "cell_type": "markdown",
   "metadata": {},
   "source": [
    "#### Organics"
   ]
  },
  {
   "cell_type": "markdown",
   "metadata": {},
   "source": [
    "Europa Book (Pg 592):\n",
    "\n",
    "- Concentration of methylene groups expected to be around 1500 ppm \n",
    "- '*If hydrocarbons are found locally on Europa with concentrations greatly exceeding tenth-of-a-percent levels, they could indicate an oceanic source of organic material...*'\n",
    "\n"
   ]
  },
  {
   "cell_type": "markdown",
   "metadata": {},
   "source": [
    "### Observations\n",
    "\n",
    "In IR, only three interplanetary missions have have mapped Europa:\n",
    "\n",
    "1. **Galileo/NIMS (refer: Europa Book)**\n",
    "\n",
    "2. **Cassini/VIMS (Brown et al 2003, McCord et al. 2004)**\n",
    "\n",
    "3. **New Horizons/LEISA (Grundy et al. 2007)**"
   ]
  },
  {
   "cell_type": "markdown",
   "metadata": {},
   "source": [
    "4. **Juno/JIRAM (Filacchione et al. 2019)**"
   ]
  },
  {
   "cell_type": "markdown",
   "metadata": {},
   "source": [
    "- Best resolution of 80 km/pixel\n",
    "- All phase angles approximately $90^{\\circ}$ due to the polar orbit.\n",
    "- $2-5$ microns range at a resolution of $10$ nm/band"
   ]
  },
  {
   "cell_type": "code",
   "execution_count": null,
   "metadata": {},
   "outputs": [],
   "source": []
  }
 ],
 "metadata": {
  "kernelspec": {
   "display_name": "Python 3",
   "language": "python",
   "name": "python3"
  },
  "language_info": {
   "codemirror_mode": {
    "name": "ipython",
    "version": 3
   },
   "file_extension": ".py",
   "mimetype": "text/x-python",
   "name": "python",
   "nbconvert_exporter": "python",
   "pygments_lexer": "ipython3",
   "version": "3.6.9"
  },
  "varInspector": {
   "cols": {
    "lenName": 16,
    "lenType": 16,
    "lenVar": 40
   },
   "kernels_config": {
    "python": {
     "delete_cmd_postfix": "",
     "delete_cmd_prefix": "del ",
     "library": "var_list.py",
     "varRefreshCmd": "print(var_dic_list())"
    },
    "r": {
     "delete_cmd_postfix": ") ",
     "delete_cmd_prefix": "rm(",
     "library": "var_list.r",
     "varRefreshCmd": "cat(var_dic_list()) "
    }
   },
   "types_to_exclude": [
    "module",
    "function",
    "builtin_function_or_method",
    "instance",
    "_Feature"
   ],
   "window_display": false
  }
 },
 "nbformat": 4,
 "nbformat_minor": 2
}
