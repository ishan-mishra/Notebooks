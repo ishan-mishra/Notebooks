{
 "cells": [
  {
   "cell_type": "markdown",
   "metadata": {},
   "source": [
    "### Nikole's pearls of wisdom\n",
    "\n",
    "- When despiking data/removing noisy points, a rule of thumb is that the process should not remove more than $1-10\\%$ of the data points, to restrict information loss.\n",
    "\n",
    "### Jonathan's pearls of wisdom\n",
    "\n",
    "This goes back to my second paper, where we analyzed Galileo/NIMS data with FROSTIE. Jonathan's comment on my question 'What new science are we doing by analyzing the same data but with a different method?'\n",
    "\n",
    "*Galileo/NIMS data is not of very high quality. Moreover, the previous analysis have not accounted for the uncertainties in the measurements. Hence, even spectra that statistically look the same (look at the figure of S1, S2 and S3 above with SNR=10), have resulted in different hydrate abundances, because they were fitted without accounting for the error-bars. With Bayesian analysis, we can analyze them for a range of uncertainties and provide quantitative evidence on whether the spectra represent different compositions or not.*\n",
    "\n",
    "It seems like there are two approaches for doing science:\n",
    "\n",
    "1. You find out the un-answered questions in science (planetary science/astronomy in my case), and then try to find datasets that can help solve them. This is the aproach Alex likes (as confirmed by Nic's comments). I guess this is also the approach one takes when applying for time on telescope, etc.\n",
    "2. You get a new dataset and do a pre-liminary exploration of the dataset, which usually generates a lot of questions. \n",
    "\n",
    "So you start with the question and then look at the data, or the other way round. \n"
   ]
  },
  {
   "cell_type": "markdown",
   "metadata": {},
   "source": [
    "# General notes on Europa"
   ]
  },
  {
   "cell_type": "markdown",
   "metadata": {},
   "source": [
    "## Surface features/geology\n",
    "\n",
    "- The visible dark markings crossing through the surface are called linea\n",
    "- Chaos terrains, area where features such as ridges, cracks, and plains appear jumbled and enmeshed with one another, are also present. \n",
    "- These features are believed to have formed due to tidal movements below the water with constant resurfacing and exposure of non-ice material. "
   ]
  },
  {
   "cell_type": "markdown",
   "metadata": {},
   "source": [
    "## Surface composition"
   ]
  },
  {
   "cell_type": "markdown",
   "metadata": {},
   "source": [
    "    - Albedo: 0.67\n",
    "\n",
    "## Water \n",
    "\n",
    "- Amorphous v/s crystalline debated (Europa book, Carlson et al. 2009)\n",
    "- Hansen and McCord (2004) found that the nearly pure ice on the uppermost surface of Europa's leading hemisphere is uniformly amorphous.\n",
    "- Within the range of temperatures observed on Europa's surface (minimum nocturnal T ≤ 76 K; maximum diurnal T = 132 K, (Spencer et al., 1999)), one would expect that all amorphous ice would be transformed into hexagonal ice in <20 years (Jenniskens et al., 1998).\n",
    "- How to differentiate between amorphous and crystalline ice?\n",
    "    1. Crystalline ice has a secondary absorption at 1.65 microns within the 1.5 microns band.\n",
    "    2. The 2.05 microns band is shifted at 2.0 microns in the amorphous ice. \n",
    "    3. The 3.1 microns Fresnel's reflectance peak is broad and weak for amorphous ice while is narrower and structured like a triplet for cold crystalline ice.\n",
    "- By looking at water ice absorption band depth maps (after removing the 'non-ice' material's contribution), it seems like the ice texture (or grain size) is fairly uniformly distributed (Grundy et al 2007)[https://science.sciencemag.org/content/sci/318/5848/234.full.pdf ]\n",
    "\n",
    "\n",
    "#### External mechanisms affecting the surface\n",
    "\n",
    "- Due to condensation of sublimated and sputtered molecules and by irradiation from UV, electrons and ions, amorphous ice can be formed. This is what might be refurbishing amorphous ice on Europa's surface.\n",
    "- Radiation processing however occurs only at shallow layers, up to the depths of 1 cm at mid to high latitudes and up to 10-20 cm in the radiation lenses centered on the apex of the leading and training hemispheres (Nordheim et al. 2018)\n",
    "- \n",
    "\n",
    "\n",
    "\n",
    "\n"
   ]
  },
  {
   "cell_type": "markdown",
   "metadata": {},
   "source": [
    "## Non-Water components\n",
    "\n",
    "#### For a complete table, refer to the Evernote document. \n",
    "\n",
    "- The trailing hemisphere's where the non-ice material is known to be more abundant\n",
    "- Magnesium salts, sulfuric acid-rich compounds (McCord et al. 1999, Carlson et al. 2005)\n",
    "- Sulfur-bearing compounds could result from radiolytic processes altering endogenous materials (Carlson et al., 1999b; Carlson et al., 2002) or magnetospheric particles (Dalton et al., 2005; Dalton et al., 2012).\n",
    "- The Fresnel peak of water ice reflectance at around 3.1 microns is also influenced when water ice is contaminated with non-ice materials, e.g., it is removed in hydrated mineral spectra (Carlson 2009)\n"
   ]
  },
  {
   "cell_type": "markdown",
   "metadata": {},
   "source": [
    "### CO$_2$ (incomplete)\n",
    "\n",
    "- McCord et al. 1998\n",
    "- [Hansen and McCord 2008](https://ui.adsabs.harvard.edu/abs/2008GeoRL..35.1202H/abstract) found *CO$_2$ is strongly associated with the (possibly endogenic) dark (typically hydrate) regions on the surface*; they studied trailing hemisphere of Europa; similar association has also been observed on Callisto and Ganymede \n",
    "- Hand et al. 2006\n",
    "- Hand et al. 2007; used the equivalent width of the 4.25 $\\mu$m feature to estimate the concentration of CO$_2$, on the leading side, to be 360 ppmv. \n",
    "- Carlson et al. 2009 (Europa book)\n",
    "    - Even though the CO$_2$ on Europa's surface is estimated to convert to CO and H$_2$CO$_3$, with further irradiation H$_2$CO$_3$, is destroyed to form CO$_2$. At equilibrium, the latter process dominates and hence most of the carbon will be present as CO$_2$.  \n",
    "    - Europa's surface is an open system, hence the CO$_2$ on the surface can escape into the atmosphere. This implies a constant source of replenishment for the carbon seen on surface. \n",
    "    - CO$_2$ is very volatile and so should not be present on Europa's surface, unless its trapped in calthrates. Tentative evidence for it comes from the shift in the 4.85 $\\mu$m feature of the calthrate-trapped CO$_2$ ice, which brings it very closed to the position of the feature observed on Europa.\n",
    "- [Trumbo et al. 2019](https://arxiv.org/pdf/1908.01093.pdf): H$_2$O$_2$ is primarily found in the low latitude. chaos terrain regions of Europa's leading hemisphere. The authors suggest that this distribution might largely reflect *efficient electron scavenging by CO$_2$ within the chaos regions*, which can enhance H$_2$O$_2$ concentrations. \n",
    "    \n",
    "Questions:\n",
    "\n",
    "- CO$_2$ undergoes radiolysis to produce [complex molecules](https://ui.adsabs.harvard.edu/abs/1998JGR...10331391D/abstract). So should we expect to see its evidence in the trailing hemisphere?\n",
    "- Where does the CO$_2$ on Europa's surface originate?\n",
    "    - [Ion implantation (Lv et al. 2012, ](https://ui.adsabs.harvard.edu/abs/2012A%26A...546A..81L/abstract)[Strazulla, G. 2011 )](https://ui.adsabs.harvard.edu/abs/2011NIMPB.269..842S/abstract); although not the dominant formation mechanism.\n",
    "    - Water ice + carbonaceous material reactions has been suggested as a dominant source (Strazulla, G. 2011)\n",
    "    - Europa, Ganymede and Callisto all exhibit spectral evidence for CO$_2$ trapped in their surface material. This CO$_2$ may have been supplied by carbonaceous chondrites, released from clathrates, or produced through radiolysis. [Dalton et al. 2010](https://link.springer.com/article/10.1007/s11214-010-9665-8)\n",
    "\n",
    "Research ideas:\n",
    "\n",
    "1. Finding evidence of CO$_2$ within the chaos regions of the leading hemisphere will support detection of H$_2$O$_2$ by Trumbo et al. 2019. \n",
    "2. The abundance and distribution of CO$_2$ is on Europa's surface is not known (Trumbo et al. 2019, Lv et al. 2012). Hand et al. 2007 estimated 360 ppmv for the leading hemisphere. \n",
    "3. Hansen and McCord (2008) analyzed the distribution of CO$_2$ using the 4.25 $\\mu$m feature, since they were analyzing newly processed, low-noise NIMS data. I can try constraining the CO$_2$ distribution with just 1-2.5 microns data. \n",
    "4.  Hansen and McCord (2008) found strong correlation of CO$_2$ with dark regions on Europa. Among the three spectra I am analyzing, $S1$ and $S2$ lie in the dark region, while $S3$ lies outside it. Hence, $S1$ and $S2$ should show high evidence of CO$_2$, while $S3$ should not.\n",
    "5. Fitting analysis for CO$_2$ ice + water model v/s calthrate-trapped CO$_2$ ice + water model near the 4.85 $\\mu$m Europan data. Can tell us about the physical nature of the CO$_2$ that exists on Europa's surface (Carlson et al. 2009) "
   ]
  },
  {
   "cell_type": "markdown",
   "metadata": {},
   "source": [
    "#### <span style='color:red'> Questions: </span>"
   ]
  },
  {
   "cell_type": "markdown",
   "metadata": {},
   "source": [
    "1. Most of the red material on Europa, believed to be salt, is on the trailing side [(ref1,](https://science.sciencemag.org/lookup/google-scholar?link_type=googlescholar&gs_type=article&q_txt=R.+W.+Carlson%2C+M.+S.+Anderson%2C+R.+Mehlman%2C+R.+E.+Johnson%2C+Icarus+177%2C+461+(2005),[ref2)](https://science.sciencemag.org/content/sci/318/5848/234.full.pdf), whereas NaCl has been detected on the leading side [(ref)](https://advances.sciencemag.org/content/5/6/eaaw7123.abstract). Why the disparity?\n"
   ]
  },
  {
   "cell_type": "markdown",
   "metadata": {},
   "source": [
    "### Sulfuric-acid hydrates\n",
    "\n",
    "- [Ligier et al. 2019](https://ui.adsabs.harvard.edu/abs/2019Icar..333..496L/abstract): while this paper is on Ganymede, they do compare the SAO (sulfuric-acid-octahydrate) distribution on Ganymede to that on Europa. They say that:\n",
    "\n",
    "'*Because Ganymede (and Europa) synchronously rotates as it revolves around Jupiter about 17 times slower than the corotational speed of the plasma, Ganymede is constantly overtaken in its orbit by plasma and energetic particles trapped in Jupiter's magnetosphere, and the trailing hemisphere is always facing the magnetospheric plasma flow. Therefore, Ganymede's trailing hemisphere should be enriched in S-bearing minerals produced by radiolysis, such as sulfuric acid hydrate. This hypothesis has already been tested and verified for Europa*'. \n",
    "\n",
    "This hypothesis does not work for Ganymede (more SAO on poles and leading hemisphere) because its intrinsic magnetic field complicates things. \n",
    "\n",
    "- [Filacchione et al. 2019](https://ui.adsabs.harvard.edu/abs/2019Icar..328....1F/abstract): Distribution of the I/F(2.541 $\\mu$m)/I/F(2.020 $\\mu$m) ratio on the JIRAM dataset is close to 1. This is an indicator of the presence of non ice material, like hydrated sulfuric acid and salts, while larger values correspond to more pure water ice composition.\n",
    "\n",
    "- Ligier et al. 2016\n",
    "- Brown and Hand, 2013\n",
    "- Grundy et al. 2007\n",
    "- Carlson et al. 2005\n",
    "\n",
    "\n"
   ]
  },
  {
   "cell_type": "markdown",
   "metadata": {},
   "source": [
    "### Organics"
   ]
  },
  {
   "cell_type": "markdown",
   "metadata": {},
   "source": [
    "Europa Book (Pg 592):\n",
    "\n",
    "- Concentration of methylene groups expected to be around 1500 ppm \n",
    "- '*If hydrocarbons are found locally on Europa with concentrations greatly exceeding tenth-of-a-percent levels, they could indicate an oceanic source of organic material...*'\n",
    "\n"
   ]
  },
  {
   "cell_type": "markdown",
   "metadata": {},
   "source": [
    "### Observations\n",
    "\n",
    "In IR, only three interplanetary missions have have mapped Europa:\n",
    "\n",
    "1. **Galileo/NIMS (refer: Europa Book)**\n",
    "\n",
    "2. **Cassini/VIMS (Brown et al 2003, McCord et al. 2004)**\n",
    "\n",
    "3. **New Horizons/LEISA (Grundy et al. 2007)**"
   ]
  },
  {
   "cell_type": "markdown",
   "metadata": {},
   "source": [
    "4. **Juno/JIRAM (Filacchione et al. 2019)**"
   ]
  },
  {
   "cell_type": "markdown",
   "metadata": {},
   "source": [
    "- Best resolution of 80 km/pixel\n",
    "- All phase angles approximately $90^{\\circ}$ due to the polar orbit.\n",
    "- $2-5$ microns range at a resolution of $10$ nm/band"
   ]
  },
  {
   "cell_type": "code",
   "execution_count": null,
   "metadata": {},
   "outputs": [],
   "source": []
  }
 ],
 "metadata": {
  "kernelspec": {
   "display_name": "Python 3",
   "language": "python",
   "name": "python3"
  },
  "language_info": {
   "codemirror_mode": {
    "name": "ipython",
    "version": 3
   },
   "file_extension": ".py",
   "mimetype": "text/x-python",
   "name": "python",
   "nbconvert_exporter": "python",
   "pygments_lexer": "ipython3",
   "version": "3.6.9"
  },
  "varInspector": {
   "cols": {
    "lenName": 16,
    "lenType": 16,
    "lenVar": 40
   },
   "kernels_config": {
    "python": {
     "delete_cmd_postfix": "",
     "delete_cmd_prefix": "del ",
     "library": "var_list.py",
     "varRefreshCmd": "print(var_dic_list())"
    },
    "r": {
     "delete_cmd_postfix": ") ",
     "delete_cmd_prefix": "rm(",
     "library": "var_list.r",
     "varRefreshCmd": "cat(var_dic_list()) "
    }
   },
   "types_to_exclude": [
    "module",
    "function",
    "builtin_function_or_method",
    "instance",
    "_Feature"
   ],
   "window_display": false
  }
 },
 "nbformat": 4,
 "nbformat_minor": 2
}
