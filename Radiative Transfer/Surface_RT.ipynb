{
 "cells": [
  {
   "cell_type": "markdown",
   "metadata": {},
   "source": [
    "## Hapke model"
   ]
  },
  {
   "cell_type": "markdown",
   "metadata": {},
   "source": [
    "**Geometry of observation** (from Belgacem et al. 2020)\n",
    "\n",
    "<img src=\"hapke_geo.png\" width=\"500\" />"
   ]
  },
  {
   "cell_type": "markdown",
   "metadata": {},
   "source": [
    "As defined in eq. 10.5 of Hapke (2012), the equation for radiance factor (I/F) (**omitting** backscattering, opposition effects, etc.):\n",
    "\n",
    "$$\\dfrac{I}{F}(\\mu,\\mu_0,g) = K \\dfrac{\\omega}{4}\\dfrac{\\mu_0}{(\\mu + \\mu_0)}[P(g) + H(\\omega,\\mu/K)H(\\omega,\\mu_0/K) - 1]$$"
   ]
  },
  {
   "cell_type": "markdown",
   "metadata": {},
   "source": [
    "Here (going from left to right):\n",
    "\n",
    "$I/F$ is the radiance factor, which is the ratio of bidirectional reflectance of a surface to that of a perfectly diffuse surface (Lambertian) illuminated and observed at $i=0$ <br>\n",
    "$\\mu$ is the cosine of the emergence angle $e$ (see geometry of observation above) <br>\n",
    "$\\mu_0$ is the cosine of the incidence angle $i$ <br>\n",
    "$g$ is the phase angle <br>\n",
    "$K$ is the porosity coefficient <br>\n",
    "$\\omega$ is the single scattering albedo <br>\n",
    "$P$ is the particle phase function <br>\n",
    "$H$ is the Ambartsumian-Chandrasekhar function that accounts for multiply scattered component of the reflection. <br>"
   ]
  },
  {
   "cell_type": "markdown",
   "metadata": {},
   "source": [
    "#### The porosity coefficient $K$\n",
    "\n",
    "$K$ is the porosity coefficient (see eq. 8.70 of Hapke 2012). It is related to the filling factor $\\phi$ through \n",
    "\n",
    "$$K = \\textrm{-ln}(1 - 1.209\\phi^{2/3})/1.209\\phi^{2/3}$$\n",
    "\n",
    "The filling factor $\\phi$ is the total fraction of volume occupied by particles. As described in Page 219 of Hapke 2012, the eq. for $I/F$, with $K$ included, *'...is valid only up to the critical point of $\\phi < 0.52$ where coherent effects become important. This avoids the difficulty that this equation predicts that the reflectance would become very large when $\\phi \\rightarrow 0.75$. However this means that [the equation] is not applicable to solid rocks or extremely compressed powders...'* \n",
    "\n",
    "**Note**: Under the assumption that particles are sparsely packed, $K=1.0$ (this version of the $I/F$ equation, without the $K$ term, is the most popular version I have come across)\n",
    "\n",
    "The filling factor $\\Phi$ for a mixture with $j$ components is defined as\n",
    "\n",
    "$$\\Phi = \\sum_j N_j v_j = \\sum_j N_j \\frac{4}{3} \\pi (\\frac{D_j}{2})^3$$\n",
    "\n",
    "where $N_j$ is the number density (units m$^{-3}$) and $v_j$ is the volume of a single particle/grain of component $j$ of diameter $D_j$."
   ]
  },
  {
   "cell_type": "markdown",
   "metadata": {},
   "source": [
    "#### The single scattering albedo $\\omega$\n",
    "\n",
    "As described in section 14.4.1 of Hapke 2012, for a medium that consists of only one type of particle that is large compared to the wavelength, $\\omega$ is given by\n",
    "\n",
    "$$\\omega = \\dfrac{N\\sigma Q_S}{N\\sigma Q_E} = \\dfrac{Q_S}{Q_E} = Q_s$$\n",
    "\n",
    "Here, $Q_S$ is the *volume-average scattering efficiency including diffraction*, $Q_s$ is the *volume-average scattering efficiency excluding diffraction* and $Q_E$ is the *volume-average extinction efficiency*. \n",
    "\n",
    "**Note**: Here we assume that $Q_E=1$ and $Q_S = Q_s$ for large particles in a medium in which the particles are in contact. Usually, $Q_E$ relates to $K$ and hence can be variable.<br>\n",
    "\n",
    "Assuming that the scattering efficiency of an equant particle can be described to a sufficient approximation by the equivalent-slab model (eq. 6.20 of Hapke 2012):\n",
    "\n",
    "$$\\omega = Q_s = S_e + (1 - S_e) \\dfrac{(1 - S_i)\\Theta}{1 - S_i\\Theta}$$\n",
    "\n",
    "where $S_e$ and $S_i$ are the average Fresnal reflection coefficients for externally and internally incident light. They are given by eqns. 6.49-6.50 in Hapke 2012:\n",
    "\n",
    "$$S_e = 0.0587 + 0.8543 R(0) + 0.0870 R(0)^2$$\n",
    "\n",
    "$$S_i \\approx 1 - \\dfrac{1}{n_r}[0.9413 - 0.8543 R(0) - 0.0870 R(0)^2]$$\n",
    "\n",
    "where $R(0)$ is the *normal specular reflection coefficient*\n",
    "\n",
    "$$R(0) = \\dfrac{(n_r - 1)^2 + n_i^2}{(n_r + 1)^2 + n_i^2}$$\n",
    "\n",
    "$\\Theta$ is the *internal-transmission factor* given by (eq. 6.48):\n",
    "\n",
    "$$\\Theta = \\dfrac{r_i + \\textrm{exp}(-\\sqrt{\\alpha(\\alpha + s)}\\langle D \\rangle)}{1 + r_i \\textrm{exp}(-\\sqrt{\\alpha(\\alpha + s)}\\langle D \\rangle)}$$\n",
    "\n",
    "where $r_i = \\frac{1 - \\sqrt{\\dfrac{\\alpha}{\\alpha + s}}}{1 + \\sqrt{\\dfrac{\\alpha}{\\alpha + s}}}$ is the *internal diffusive reflectance*, $\\alpha$ is *the absorption coefficient* ($= 4\\pi n_i/\\lambda$), $s$ is the *internal scattering coefficient inside the particle* and $\\langle D \\rangle$ is the *effective particle size*. <br>\n",
    "\n",
    "**Note**: $s$ can be assumed to be equal to 0 if particles are perfectly clear (eg. euhedral, clear ice crystals). However, according to Paul, fits of Hapke's model to many icy satellites give particle phase functions that indicate the presence of ice grains with high densities of internal scatterers. We do not know what values to assume for $s$. Hence it should be treated as a free parameter for fitting purposes.\n",
    "\n",
    "**Note**: *Since it is the scattering coefficient, analogous to the absorption coefficient $\\alpha (=4 n_i pi/\\lambda)$, shouldn't $s$ also depend on wavelength?*  It doesn't have to be. The parameter $s$ characterizes the density of \n",
    "scatterers that are within the particle. They can be cracks, bubbles,  particle inclusions, crystal defects, micrometeorite or particle radiation tracks, etc. We would expect a wavelength dependence if the  typical size of an internal scatter is smaller than the wavelength of light. Remember the size parameter, $X = \\pi D/\\lambda$ where $D$ is the  diameter of the scatterer and $\\lambda$ is wavelength. For geometric optics $X>>1$.\n",
    "\n",
    "**Note**: In the *equivalent-slab approximation*, $\\langle D \\rangle \\approx 0.9 D$ for $n_r$ between 1.3 and 2.0. However, the exact expression is (eqn. 5.55 of Hapke 2012):\n",
    "\n",
    "$$\\langle D \\rangle = \\dfrac{2}{3} \\Big[ n_r^2 - \\dfrac{1}{n_r}(n_r^2 - 1)^{3/2}\\Big]D$$\n",
    "\n",
    "**Note**: Also,when $\\langle D \\rangle$ is determined by reflectance, it will usually correspond to the smallest particles in the distribution, rather than to some mean size (discussion on page 379).\n",
    "\n",
    "**Note:** The formula for $\\langle D \\rangle$ breaks down at $n_r \\leq 1$. Paul's comments on this problem:\n",
    "\n",
    "1. *Physically, when the real index of refraction, $n_r=1$ it is the same as the refractive index of the medium (i.e. vacuum) and the boundary of grain/vacuum interface becomes invisible or perfectly transparent. You are a bit of a prisoner of the model's approach. That is, for each step in your Bayesian grid-array, you need to assume a single value of D for each grain type and apply it to all wavelengths. You are currently forced to use the slab approximation expression only to compute $\\langle D \\rangle$ from your assumed $D$. This expression would be most accurate at the wavelengths for which the imaginary index, $n_i$, is smallest. So inverting the expression at the best wavelength would give you the best estimate of $D$ if computed from $D$.  Unfortunately, $\\langle D \\rangle$ varies with wavelength and you need a fixed $D$ for all wavelengths.*\n",
    "\n",
    "2. *Hapke's model doesn't work well in very absorbing material/wavelength regions like the Christiansen frequency. It tends to happen toward the thermal infrared where thermal effects can cause resonances in the crystal lattice.*"
   ]
  },
  {
   "cell_type": "markdown",
   "metadata": {},
   "source": [
    "#### The phase function $P$\n",
    "\n",
    "The most commonly used empirical phase function is the *Henyey-Greenstein* function. There are one, two and three parameter variants (section 6.3.3 of the Hapke 2012 book). <br>\n",
    "\n",
    "The single-parameter function is \n",
    "\n",
    "$$P_{HG1}(g) =  \\dfrac{1 - \\xi^2}{(1 + 2\\xi \\textrm{cos}g + \\xi^2)^{3/2}}$$\n",
    "\n",
    "where $\\xi$ is the cosine asymmetry factor, $\\xi = - \\langle \\textrm{cos}g \\rangle$\n",
    "\n",
    "The above equation has only one lobe, whereas the phase functions of most particles are double-lobed. Hence, to represent them two *Henyey-Greenstein* functions of opposite symmetry are required. <br>\n",
    "\n",
    "The two parameter version is:\n",
    "\n",
    "$$P_{HG2}(g) = \\dfrac{1+c}{2}\\dfrac{1 - b^2}{(1 - 2b\\textrm{cos}g + b^2)^{3/2}} + \\dfrac{1-c}{2}\\dfrac{1 - b^2}{(1 + 2b\\textrm{cos}g + b^2)^{3/2}}$$\n",
    "\n",
    "and the three-parameter function is:\n",
    "\n",
    "$$P_{HG3}(g) = \\dfrac{1+c}{2}\\dfrac{1 - b_1^2}{(1 - 2b_1\\textrm{cos}g + b_1^2)^{3/2}} + \\dfrac{1-c}{2}\\dfrac{1 - b_2^2}{(1 + 2b_2\\textrm{cos}g + b_2^2)^{3/2}}$$\n",
    "\n",
    "In these expressions the first term describes the backward lobe and the second term describes the forward lobe; the relative strengths of the lobes are determined by $c$, and their shapes by $b$, $b_1$ or $b_2$.\n",
    "\n",
    "**Note**: The b-parameters are constrained to lie in the range $0 \\leq b,b_1,b_2 \\leq 1$; there is no constraint on c except that $P_{HG}(g) \\geq 0$ everywhere\n",
    "\n",
    "In the *equivalent-slab approximation* (section 6.5.7 in Hapke 2012), $b$ and $c$ can be calculated as\n",
    "\n",
    "$$c = \\dfrac{\\Delta Q_s}{Q_s}$$\n",
    "\n",
    "$$b = 0.15 + \\dfrac{0.05}{(1 + \\Delta Q_s/Q_s)^{4/3}}$$\n",
    "\n",
    "where $\\Delta Q_s$ is the *scattering efficiency difference*, which is the difference between the back- and forward-scattering efficiency of a slab and is given by (eq. 6.51 and section 5.6 in Hapke 2012)\n",
    "\n",
    "$$\\Delta Q_s = S_e + (1 - S_e)(1 - S_i)\\dfrac{\\Psi}{1 - S_i \\Psi}$$ \n",
    "\n",
    "where $\\Psi$ is the *scattering efficiency difference factor* and is given by (eq. 6.31)\n",
    "\n",
    "$$\\Psi = \\dfrac{r_i - \\textrm{exp}(-\\sqrt{\\alpha(\\alpha + s)}\\langle D \\rangle)}{1 - r_i \\textrm{exp}(-\\sqrt{\\alpha(\\alpha + s)}\\langle D \\rangle)}$$"
   ]
  },
  {
   "cell_type": "markdown",
   "metadata": {},
   "source": [
    "#### The Ambartsumian-Chandrasekhar $H$ function\n",
    "\n",
    "According to section 8.7.3.3 of Hapke 2012, an excellent approximation of $H(\\omega,x)$ is given by \n",
    "\n",
    "$$H(\\omega, x) \\approx \\dfrac{1}{1 - \\omega x[r_0 + \\frac{1 - 2 r_0 x}{2} \\textrm{ln} \\Big(\\frac{1+x}{x}\\Big)]}$$\n",
    "\n",
    "where $r_0$ is the *diffusive reflectance* . For *isotropic scatterers*, it given by (eq. 8.25 in Hapke 2012)\n",
    "\n",
    "$$r_0 = \\dfrac{1 - \\gamma}{1 + \\gamma}$$\n",
    "\n",
    "and $\\gamma$ is the *albedo factor* given by (eq. 8.22b)\n",
    "\n",
    "$$\\gamma = (1 - \\omega)^{1/2}$$\n",
    "\n",
    "**Note:** What's the difference between the the *diffusive reflectance* $r_0$ and the *internal diffusive reflectance* $r_i$?\n",
    "\n",
    "The difference involves the fact that the diffuse reflectance is directly a function of the average particle single scattering albedo which contains both contributions of light scattered from the surface of the particle and also from its interior.  In contrast, the internal diffusive reflectance involves only the contribution of internally scattered and absorbed light. It does not involve the light that is scattered directly from the outer surface of the grain.\n",
    "\n"
   ]
  },
  {
   "cell_type": "markdown",
   "metadata": {},
   "source": [
    "#### Mixing equations\n",
    "\n",
    "As detailed in section 10.7.2, for an intimate mixture the mixing equations for $\\omega$ and $p(g)$ are:\n",
    "\n",
    "$$\\omega = \\dfrac{\\sum_j N_j \\sigma_j Q_{Ej} \\omega_j}{\\sum_j N_j \\sigma_j Q_{Ej}} = \\dfrac{\\sum_j f_j \\sigma_j Q_{Ej} \\omega_j}{\\sum_j f_j \\sigma_j Q_{Ej}}$$\n",
    "\n",
    "$$p(g) = \\dfrac{\\sum_j N_j \\sigma_j Q_{Ej} \\omega_j p_j(g)}{\\sum_j N_j \\sigma_j Q_{Ej} \\omega_j} = \\dfrac{\\sum_j f_j \\sigma_j Q_{Ej} \\omega_j p_j(g)}{\\sum_j f_j \\sigma_j Q_{Ej} \\omega_j} $$\n",
    "\n",
    "Here $N_j$ is the number of particles per unit volume, $f_j = \\frac{N_j}{\\sum_j N_j}$ is the corresponding number fraction, $\\sigma_j = \\pi a_j^2$ is the cross-sectional area of a particle and $Q_{Ej}$ is the extinction efficiency of a particle of type $j$."
   ]
  },
  {
   "cell_type": "markdown",
   "metadata": {},
   "source": [
    "#### Disk-integrated spectrum and phase function"
   ]
  },
  {
   "cell_type": "markdown",
   "metadata": {},
   "source": [
    "*How do we relate the phase function in Hapke's model, which depends on the properties of an average particle on the surface, to the phase function calculated from full-disk observations of a planetary body?*\n",
    "\n",
    "Paul's response: 'From the best-fit spectrum's particle  properties, we can compute the corresponding wavelength-dependent Hapke parameters. With those, we can model a disk-integrated spectrum of Europa (...which would assume that Europa was homogeneously covered with your spectral mix.) The analytic equations for the disk-integration are a little grizzly (**see Hapke (2012), Section 12.3.2**) -- I prefer to use numerical integration routines because they can be adapted to different variants of Hapke's model.'"
   ]
  },
  {
   "cell_type": "markdown",
   "metadata": {},
   "source": [
    "## Meeting minutes"
   ]
  },
  {
   "cell_type": "markdown",
   "metadata": {},
   "source": [
    "#### Meeting with Paul on 11.12.2019\n",
    "\n",
    "- Simplified assumptions in the JIRAM paper are probably okay because 1) we are working with transparent particles 2) they are both water ice, as opposed to a mixture of light and dark particles\n",
    "- *I/F is called the radiance factor*\n",
    "- There is a mixing equation for phase function as well.\n",
    "- Hapke model parameter $K$ is accounts for porosity in the regolith. Should be taken into account. \n",
    "- Phase functions and backscattering become a wavelength dependent at low phase angles (?)\n"
   ]
  },
  {
   "cell_type": "markdown",
   "metadata": {},
   "source": [
    "#### Meeting with Paul 11.27.2019\n",
    "\n",
    "1. We are investigating effects of parameters that people ignore, despite work that has been done to show that these parameters matter. Nobody has worked with $K$, so we are already doing something new.\n",
    "2. Most spectroscopic analysis works focus on relative spectra. People don't try to model the exact amplitude, which is the key to understanding the physical processes.\n",
    "4. *Figure out the right equation to use for $\\langle D \\rangle$. Hapke seems to be making an approximation that is not valid in the regime we are working in.*\n",
    "5. Shadow hiding function is not needed in our analysis because 1) its not important at high phase angles 2) for water ice surface, multiple scattering can actually illuminate shadow regions. It might however be important where its absorbing. \n"
   ]
  },
  {
   "cell_type": "markdown",
   "metadata": {},
   "source": [
    "### Dependency table\n",
    "\n",
    "Quick reference for the different parameter functions that come up frequently in Hapke's formulation\n",
    "\n",
    "| Parameter    | Depends on |\n",
    "|:-------------:|:-------------:|\n",
    "| Phase function $P$     |$g, n, k, D, s$|\n",
    "| Single scattering albedo  $\\omega$     |  $n,k,D,s $    | \n",
    "|               |   | "
   ]
  },
  {
   "cell_type": "code",
   "execution_count": null,
   "metadata": {},
   "outputs": [],
   "source": []
  }
 ],
 "metadata": {
  "kernelspec": {
   "display_name": "Python 3",
   "language": "python",
   "name": "python3"
  },
  "language_info": {
   "codemirror_mode": {
    "name": "ipython",
    "version": 3
   },
   "file_extension": ".py",
   "mimetype": "text/x-python",
   "name": "python",
   "nbconvert_exporter": "python",
   "pygments_lexer": "ipython3",
   "version": "3.6.9"
  },
  "varInspector": {
   "cols": {
    "lenName": 16,
    "lenType": 16,
    "lenVar": 40
   },
   "kernels_config": {
    "python": {
     "delete_cmd_postfix": "",
     "delete_cmd_prefix": "del ",
     "library": "var_list.py",
     "varRefreshCmd": "print(var_dic_list())"
    },
    "r": {
     "delete_cmd_postfix": ") ",
     "delete_cmd_prefix": "rm(",
     "library": "var_list.r",
     "varRefreshCmd": "cat(var_dic_list()) "
    }
   },
   "types_to_exclude": [
    "module",
    "function",
    "builtin_function_or_method",
    "instance",
    "_Feature"
   ],
   "window_display": false
  }
 },
 "nbformat": 4,
 "nbformat_minor": 2
}
