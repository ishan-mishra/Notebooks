{
 "cells": [
  {
   "cell_type": "markdown",
   "metadata": {},
   "source": [
    "# Tips for writing scientific articles and literature in general"
   ]
  },
  {
   "cell_type": "markdown",
   "metadata": {},
   "source": [
    "## General advice:\n",
    "\n",
    "*Ryan MacDonald (on article abstracts):*\n",
    "\n",
    "'General point: I usually structure abstracts with the following narrative: 1) Big picture: what is known, what are the questions? 2) The mystery: but there is something we don't know / a problem in the literature. 3) The intervention (hero enters the picture): here we present this new analysis that tackles the mystery. 4) Results: we demonstrate... 5) Slaying / taming the dragon: our results change something about how we saw the mystery. 6) New quests await: future directions / new questions raised by your work.'\n",
    "\n",
    "*ASTRO 6577 guidelines for outlining a data-analysis related scientific article*\n",
    "\n",
    "**Abstract**\n",
    "\n",
    "- a concise summary of your paper and entices the reader to want to read on by making them curious about the detail\n",
    "\n",
    "**Introduction**\n",
    "\n",
    "- An introduction to the problem you are studying: why is it important? \n",
    "- Background information on previous work to study the problem\n",
    "- Description of the geographic area you are studying (if this applies)\n",
    "\n",
    "**Methods and data**\n",
    "\n",
    "- Your approach to the problem: what are you trying to accomplish as an individual\n",
    "- Specific information about the data you are using and where it is from\n",
    "- Methods you use to analyze with references to the source\n",
    "\n",
    "**Results and discussion: What you learned through your data analysis**\n",
    "\n",
    "1. **Results: describe the outcome of the analysis**\n",
    "\n",
    "2. **Discussion: interpretations and implications**\n",
    "\n",
    "    - Does your work confirm previous conclusions and hypotheses?\n",
    "    - What are the most important, new and surprising findings?  Why?\n",
    "    - Do your results have implications for studies in other areas?  Where?  In what way?\n",
    "    - What further work is necessary to confirm or extend your results?\n",
    "    \n",
    "**Summary and Conclusions**\n",
    "\n",
    "\n",
    "\n",
    "\n"
   ]
  },
  {
   "cell_type": "code",
   "execution_count": null,
   "metadata": {},
   "outputs": [],
   "source": []
  }
 ],
 "metadata": {
  "kernelspec": {
   "display_name": "Python 3",
   "language": "python",
   "name": "python3"
  },
  "language_info": {
   "codemirror_mode": {
    "name": "ipython",
    "version": 3
   },
   "file_extension": ".py",
   "mimetype": "text/x-python",
   "name": "python",
   "nbconvert_exporter": "python",
   "pygments_lexer": "ipython3",
   "version": "3.6.9"
  },
  "varInspector": {
   "cols": {
    "lenName": 16,
    "lenType": 16,
    "lenVar": 40
   },
   "kernels_config": {
    "python": {
     "delete_cmd_postfix": "",
     "delete_cmd_prefix": "del ",
     "library": "var_list.py",
     "varRefreshCmd": "print(var_dic_list())"
    },
    "r": {
     "delete_cmd_postfix": ") ",
     "delete_cmd_prefix": "rm(",
     "library": "var_list.r",
     "varRefreshCmd": "cat(var_dic_list()) "
    }
   },
   "types_to_exclude": [
    "module",
    "function",
    "builtin_function_or_method",
    "instance",
    "_Feature"
   ],
   "window_display": false
  }
 },
 "nbformat": 4,
 "nbformat_minor": 2
}
