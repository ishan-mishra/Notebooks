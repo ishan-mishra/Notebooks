{
 "cells": [
  {
   "cell_type": "markdown",
   "metadata": {},
   "source": [
    "# Catalog of spectral analysis/retrieval techniques in planetary science (including exoplanet science)"
   ]
  },
  {
   "cell_type": "markdown",
   "metadata": {},
   "source": [
    "## Bayesian parameter estimation and model comparison\n",
    "\n",
    "Goals: \n",
    "\n",
    "1. Get *probability distributions* of free parameters (parameters we are fitting for)\n",
    "2. Get *detection significance* of all the species in our model \n",
    "\n",
    "Commonly applied to: Exoplanet spectroscopic analysis\n",
    "\n",
    "Example: [MacDonald and Madhusudhan (2017)](https://ui.adsabs.harvard.edu/abs/2017ApJ...850L..15M/abstract)\n",
    "\n",
    "**Brief summary**: (<span style='color:red'>PENDING</span>)"
   ]
  },
  {
   "cell_type": "markdown",
   "metadata": {},
   "source": [
    "### Useful tips:\n",
    "\n",
    "My question to Ryan:\n",
    "\n",
    "*Hey Ryan. A question about reporting detection significances and abundances. Suppose I am analyzing data with a model that includes three species - A, B and C. Through Bayesian model comparison, I find that A and B have strong evidence, while removing C actually increases the evidence over the reference model (A+B+C). Hence, the model with highest evidence so far is the one with A and B in it. Next, I perform the model comparison taking the A+B model as the reference model. There is still strong evidence, now perhaps stronger, for both A and B.*\n",
    "\n",
    "*So, in conclusion, the A+B model has the highest evidence of all the possible permutations and combinations of the three species. Now, my questions:*\n",
    "\n",
    "*1. When reporting detection significances for A and B, do we  report the numbers from the first set of comparisons (where A+B+C is the ref. model), or the second set of comparisons, where A+B is the reference model?*\n",
    "*2. When reporting parameter constraints, like abundances, do we use the posteriors from the A+B+C analysis or the A+B analysis?*\n",
    "\n",
    "Ryan's response:\n",
    "\n",
    "\n",
    "Great question. I've thought about this a lot over the years, since it's a choice you have to make in each paper. This actually came up for the HAT-P-41b paper as one of the things the referee was causing issues over.\n",
    "My general philosophy is to report detection significances and parameter constraints from the initial, most complex, model. The reasoning here is that this ensures that any parameter degeneracies are automatically folded into the evidence ratio and marginalised posterior distributions. For example, by reporting significances from the A+B+C reference model, when knocking out B you automatically consider A and C as alternative explanations. But if you use A+B as the reference model, you would only be considering A. This distinction can be really important if A and C are molecules with overlapping absorption features, for example. So the detection significances from the A+B+C model will always be a bit lower, but they are the most robust, conservative, and rigorous significances you can quote.\n",
    "\n",
    "\n",
    "The downside of doing this (that we encountered for HAT-P-41b) is that a model with many free parameters will naturally have a poor reduced chi-square. You also can only push his so far, as you can't have more parameters than data points. Our referee was screaming that the complex models would be rejected by a frequentist because the p-value would be bad. So there is a philosophical clash between marginalising over a complex model for robust inferences vs. presenting the simplest model that can explain the data.\n",
    "\n",
    "**So I've come up with a compromise that I think works in most cases:**\n",
    "\n",
    "- Phase 1: I start by running a 'full' retrieval with a large number of physically motivated parameters (e.g. a planet at 3000 K probably doesn't have life, so no O2). I look at the posterior to see which parameters have bounded constraints, and prioritise those for nested model comparisons (no point running 10 retrievals for parameters with flat posteriors). The parameter constraints from the full model and the corresponding detection significances are those given in the figures and text.\n",
    "\n",
    "- Phase 2: I go through the exercise you described, working out the simplest model that can fit the data (high Bayesian evidence, reduced chi-square close to 1). Most often, this turns out to have only the parameters with sharp peaks in the full model. I call this the 'minimal' model. The minimal model is great for making plots showing the contribution of each parameter to the best fit, as this would be harder to see for knocking out a single parameter from the full model. The minimal model serves as an easily understandable conclusion from the analysis, that appeases frequentists.\n",
    "\n"
   ]
  },
  {
   "cell_type": "markdown",
   "metadata": {},
   "source": [
    "### G-mode multivariate statistical method\n",
    "\n",
    "\n",
    "Goal: Obtain *statistical clustering* of a group of spectra at different confidence levels.\n",
    "\n",
    "Commonly applied to: classify asteroids , transneptunian objects, and to search for variations in the surface composition of the asteroids (like Ryugu) and comets (like 67-P)\n",
    "\n",
    "Example: [Barucci et al., 2019](https://www.aanda.org/articles/aa/full_html/2019/09/aa35851-19/aa35851-19.html#R3)\n",
    "\n",
    "**Brief summary**: (<span style='color:red'>PENDING</span>)"
   ]
  },
  {
   "cell_type": "code",
   "execution_count": null,
   "metadata": {},
   "outputs": [],
   "source": []
  }
 ],
 "metadata": {
  "kernelspec": {
   "display_name": "Python 3",
   "language": "python",
   "name": "python3"
  },
  "language_info": {
   "codemirror_mode": {
    "name": "ipython",
    "version": 3
   },
   "file_extension": ".py",
   "mimetype": "text/x-python",
   "name": "python",
   "nbconvert_exporter": "python",
   "pygments_lexer": "ipython3",
   "version": "3.6.9"
  },
  "varInspector": {
   "cols": {
    "lenName": 16,
    "lenType": 16,
    "lenVar": 40
   },
   "kernels_config": {
    "python": {
     "delete_cmd_postfix": "",
     "delete_cmd_prefix": "del ",
     "library": "var_list.py",
     "varRefreshCmd": "print(var_dic_list())"
    },
    "r": {
     "delete_cmd_postfix": ") ",
     "delete_cmd_prefix": "rm(",
     "library": "var_list.r",
     "varRefreshCmd": "cat(var_dic_list()) "
    }
   },
   "types_to_exclude": [
    "module",
    "function",
    "builtin_function_or_method",
    "instance",
    "_Feature"
   ],
   "window_display": false
  }
 },
 "nbformat": 4,
 "nbformat_minor": 2
}
