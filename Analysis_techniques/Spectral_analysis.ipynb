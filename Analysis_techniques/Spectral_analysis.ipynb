{
 "cells": [
  {
   "cell_type": "markdown",
   "metadata": {},
   "source": [
    "# Catalog of spectral analysis/retrieval techniques in planetary science (including exoplanet science)"
   ]
  },
  {
   "cell_type": "markdown",
   "metadata": {},
   "source": [
    "### Bayesian parameter estimation and model comparison\n",
    "\n",
    "Goals: \n",
    "\n",
    "1. Get *probability distributions* of free parameters (parameters we are fitting for)\n",
    "2. Get *detection significance* of all the species in our model \n",
    "\n",
    "Commonly applied to: Exoplanet spectroscopic analysis\n",
    "\n",
    "Example: [MacDonald and Madhusudhan (2017)](https://ui.adsabs.harvard.edu/abs/2017ApJ...850L..15M/abstract)\n",
    "\n",
    "**Brief summary**: (<span style='color:red'>PENDING</span>)"
   ]
  },
  {
   "cell_type": "markdown",
   "metadata": {},
   "source": [
    "### G-mode multivariate statistical method\n",
    "\n",
    "\n",
    "Goal: Obtain *statistical clustering* of a group of spectra at different confidence levels.\n",
    "\n",
    "Commonly applied to: classify asteroids , transneptunian objects, and to search for variations in the surface composition of the asteroids (like Ryugu) and comets (like 67-P)\n",
    "\n",
    "Example: [Barucci et al., 2019](https://www.aanda.org/articles/aa/full_html/2019/09/aa35851-19/aa35851-19.html#R3)\n",
    "\n",
    "**Brief summary**: (<span style='color:red'>PENDING</span>)"
   ]
  },
  {
   "cell_type": "code",
   "execution_count": null,
   "metadata": {},
   "outputs": [],
   "source": []
  }
 ],
 "metadata": {
  "kernelspec": {
   "display_name": "Python 3",
   "language": "python",
   "name": "python3"
  },
  "language_info": {
   "codemirror_mode": {
    "name": "ipython",
    "version": 3
   },
   "file_extension": ".py",
   "mimetype": "text/x-python",
   "name": "python",
   "nbconvert_exporter": "python",
   "pygments_lexer": "ipython3",
   "version": "3.6.9"
  },
  "varInspector": {
   "cols": {
    "lenName": 16,
    "lenType": 16,
    "lenVar": 40
   },
   "kernels_config": {
    "python": {
     "delete_cmd_postfix": "",
     "delete_cmd_prefix": "del ",
     "library": "var_list.py",
     "varRefreshCmd": "print(var_dic_list())"
    },
    "r": {
     "delete_cmd_postfix": ") ",
     "delete_cmd_prefix": "rm(",
     "library": "var_list.r",
     "varRefreshCmd": "cat(var_dic_list()) "
    }
   },
   "types_to_exclude": [
    "module",
    "function",
    "builtin_function_or_method",
    "instance",
    "_Feature"
   ],
   "window_display": false
  }
 },
 "nbformat": 4,
 "nbformat_minor": 2
}
